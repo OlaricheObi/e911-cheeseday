{
 "cells": [
  {
   "cell_type": "code",
   "execution_count": 1,
   "id": "4f7af9f2",
   "metadata": {},
   "outputs": [],
   "source": [
    "from shapely.geometry import Point \n",
    "from shapely.geometry import LineString\n",
    "import pandas as pd\n",
    "import geopandas as gpd\n",
    "import sys\n",
    "import matplotlib.pyplot as plt\n",
    "import datetime as datetime\n",
    "import numpy as np\n",
    "import folium\n",
    "from folium.plugins import MarkerCluster\n",
    "from folium.plugins import FastMarkerCluster\n",
    "from folium import plugins\n",
    "from folium.plugins import HeatMap\n",
    "from folium.plugins import HeatMapWithTime"
   ]
  },
  {
   "cell_type": "code",
   "execution_count": null,
   "id": "8b587db3",
   "metadata": {},
   "outputs": [],
   "source": []
  },
  {
   "cell_type": "markdown",
   "id": "80a979f2",
   "metadata": {},
   "source": [
    "# Adding csv data"
   ]
  },
  {
   "cell_type": "code",
   "execution_count": 2,
   "id": "04f7e2f0",
   "metadata": {},
   "outputs": [
    {
     "ename": "FileNotFoundError",
     "evalue": "[Errno 2] No such file or directory: '../data/Computer_Aided_Dispatch_Data_Tornado_Incidents_030320.csv'",
     "output_type": "error",
     "traceback": [
      "\u001b[1;31m---------------------------------------------------------------------------\u001b[0m",
      "\u001b[1;31mFileNotFoundError\u001b[0m                         Traceback (most recent call last)",
      "\u001b[1;32m~\\AppData\\Local\\Temp/ipykernel_20240/1634208475.py\u001b[0m in \u001b[0;36m<module>\u001b[1;34m\u001b[0m\n\u001b[0;32m      1\u001b[0m \u001b[0mtornado_911\u001b[0m \u001b[1;33m=\u001b[0m \u001b[0mpd\u001b[0m\u001b[1;33m.\u001b[0m\u001b[0mread_csv\u001b[0m\u001b[1;33m(\u001b[0m\u001b[1;34m'../data/911_Phone_Calls_Tornado_030320.csv'\u001b[0m\u001b[1;33m)\u001b[0m\u001b[1;33m\u001b[0m\u001b[1;33m\u001b[0m\u001b[0m\n\u001b[1;32m----> 2\u001b[1;33m \u001b[0mcadd_tornado\u001b[0m \u001b[1;33m=\u001b[0m \u001b[0mpd\u001b[0m\u001b[1;33m.\u001b[0m\u001b[0mread_csv\u001b[0m\u001b[1;33m(\u001b[0m\u001b[1;34m'../data/Computer_Aided_Dispatch_Data_Tornado_Incidents_030320.csv'\u001b[0m\u001b[1;33m,\u001b[0m \u001b[0mskiprows\u001b[0m \u001b[1;33m=\u001b[0m \u001b[1;36m3\u001b[0m\u001b[1;33m)\u001b[0m\u001b[1;33m\u001b[0m\u001b[1;33m\u001b[0m\u001b[0m\n\u001b[0m\u001b[0;32m      3\u001b[0m \u001b[0mderecho_911\u001b[0m \u001b[1;33m=\u001b[0m \u001b[0mpd\u001b[0m\u001b[1;33m.\u001b[0m\u001b[0mread_csv\u001b[0m\u001b[1;33m(\u001b[0m\u001b[1;34m'../data/911_Phone_Calls_Derecho_050320_050420.csv'\u001b[0m\u001b[1;33m)\u001b[0m\u001b[1;33m\u001b[0m\u001b[1;33m\u001b[0m\u001b[0m\n\u001b[0;32m      4\u001b[0m \u001b[0mcadd_derecho\u001b[0m \u001b[1;33m=\u001b[0m \u001b[0mpd\u001b[0m\u001b[1;33m.\u001b[0m\u001b[0mread_csv\u001b[0m\u001b[1;33m(\u001b[0m\u001b[1;34m'../data/Computer_Aided_Dispatch_Data_Derecho_Incidents_050320-050420.csv'\u001b[0m\u001b[1;33m,\u001b[0m \u001b[0mskiprows\u001b[0m \u001b[1;33m=\u001b[0m \u001b[1;36m3\u001b[0m\u001b[1;33m)\u001b[0m\u001b[1;33m\u001b[0m\u001b[1;33m\u001b[0m\u001b[0m\n",
      "\u001b[1;32m~\\anaconda3\\envs\\geospatial\\lib\\site-packages\\pandas\\util\\_decorators.py\u001b[0m in \u001b[0;36mwrapper\u001b[1;34m(*args, **kwargs)\u001b[0m\n\u001b[0;32m    309\u001b[0m                     \u001b[0mstacklevel\u001b[0m\u001b[1;33m=\u001b[0m\u001b[0mstacklevel\u001b[0m\u001b[1;33m,\u001b[0m\u001b[1;33m\u001b[0m\u001b[1;33m\u001b[0m\u001b[0m\n\u001b[0;32m    310\u001b[0m                 )\n\u001b[1;32m--> 311\u001b[1;33m             \u001b[1;32mreturn\u001b[0m \u001b[0mfunc\u001b[0m\u001b[1;33m(\u001b[0m\u001b[1;33m*\u001b[0m\u001b[0margs\u001b[0m\u001b[1;33m,\u001b[0m \u001b[1;33m**\u001b[0m\u001b[0mkwargs\u001b[0m\u001b[1;33m)\u001b[0m\u001b[1;33m\u001b[0m\u001b[1;33m\u001b[0m\u001b[0m\n\u001b[0m\u001b[0;32m    312\u001b[0m \u001b[1;33m\u001b[0m\u001b[0m\n\u001b[0;32m    313\u001b[0m         \u001b[1;32mreturn\u001b[0m \u001b[0mwrapper\u001b[0m\u001b[1;33m\u001b[0m\u001b[1;33m\u001b[0m\u001b[0m\n",
      "\u001b[1;32m~\\anaconda3\\envs\\geospatial\\lib\\site-packages\\pandas\\io\\parsers\\readers.py\u001b[0m in \u001b[0;36mread_csv\u001b[1;34m(filepath_or_buffer, sep, delimiter, header, names, index_col, usecols, squeeze, prefix, mangle_dupe_cols, dtype, engine, converters, true_values, false_values, skipinitialspace, skiprows, skipfooter, nrows, na_values, keep_default_na, na_filter, verbose, skip_blank_lines, parse_dates, infer_datetime_format, keep_date_col, date_parser, dayfirst, cache_dates, iterator, chunksize, compression, thousands, decimal, lineterminator, quotechar, quoting, doublequote, escapechar, comment, encoding, encoding_errors, dialect, error_bad_lines, warn_bad_lines, on_bad_lines, delim_whitespace, low_memory, memory_map, float_precision, storage_options)\u001b[0m\n\u001b[0;32m    584\u001b[0m     \u001b[0mkwds\u001b[0m\u001b[1;33m.\u001b[0m\u001b[0mupdate\u001b[0m\u001b[1;33m(\u001b[0m\u001b[0mkwds_defaults\u001b[0m\u001b[1;33m)\u001b[0m\u001b[1;33m\u001b[0m\u001b[1;33m\u001b[0m\u001b[0m\n\u001b[0;32m    585\u001b[0m \u001b[1;33m\u001b[0m\u001b[0m\n\u001b[1;32m--> 586\u001b[1;33m     \u001b[1;32mreturn\u001b[0m \u001b[0m_read\u001b[0m\u001b[1;33m(\u001b[0m\u001b[0mfilepath_or_buffer\u001b[0m\u001b[1;33m,\u001b[0m \u001b[0mkwds\u001b[0m\u001b[1;33m)\u001b[0m\u001b[1;33m\u001b[0m\u001b[1;33m\u001b[0m\u001b[0m\n\u001b[0m\u001b[0;32m    587\u001b[0m \u001b[1;33m\u001b[0m\u001b[0m\n\u001b[0;32m    588\u001b[0m \u001b[1;33m\u001b[0m\u001b[0m\n",
      "\u001b[1;32m~\\anaconda3\\envs\\geospatial\\lib\\site-packages\\pandas\\io\\parsers\\readers.py\u001b[0m in \u001b[0;36m_read\u001b[1;34m(filepath_or_buffer, kwds)\u001b[0m\n\u001b[0;32m    480\u001b[0m \u001b[1;33m\u001b[0m\u001b[0m\n\u001b[0;32m    481\u001b[0m     \u001b[1;31m# Create the parser.\u001b[0m\u001b[1;33m\u001b[0m\u001b[1;33m\u001b[0m\u001b[1;33m\u001b[0m\u001b[0m\n\u001b[1;32m--> 482\u001b[1;33m     \u001b[0mparser\u001b[0m \u001b[1;33m=\u001b[0m \u001b[0mTextFileReader\u001b[0m\u001b[1;33m(\u001b[0m\u001b[0mfilepath_or_buffer\u001b[0m\u001b[1;33m,\u001b[0m \u001b[1;33m**\u001b[0m\u001b[0mkwds\u001b[0m\u001b[1;33m)\u001b[0m\u001b[1;33m\u001b[0m\u001b[1;33m\u001b[0m\u001b[0m\n\u001b[0m\u001b[0;32m    483\u001b[0m \u001b[1;33m\u001b[0m\u001b[0m\n\u001b[0;32m    484\u001b[0m     \u001b[1;32mif\u001b[0m \u001b[0mchunksize\u001b[0m \u001b[1;32mor\u001b[0m \u001b[0miterator\u001b[0m\u001b[1;33m:\u001b[0m\u001b[1;33m\u001b[0m\u001b[1;33m\u001b[0m\u001b[0m\n",
      "\u001b[1;32m~\\anaconda3\\envs\\geospatial\\lib\\site-packages\\pandas\\io\\parsers\\readers.py\u001b[0m in \u001b[0;36m__init__\u001b[1;34m(self, f, engine, **kwds)\u001b[0m\n\u001b[0;32m    809\u001b[0m             \u001b[0mself\u001b[0m\u001b[1;33m.\u001b[0m\u001b[0moptions\u001b[0m\u001b[1;33m[\u001b[0m\u001b[1;34m\"has_index_names\"\u001b[0m\u001b[1;33m]\u001b[0m \u001b[1;33m=\u001b[0m \u001b[0mkwds\u001b[0m\u001b[1;33m[\u001b[0m\u001b[1;34m\"has_index_names\"\u001b[0m\u001b[1;33m]\u001b[0m\u001b[1;33m\u001b[0m\u001b[1;33m\u001b[0m\u001b[0m\n\u001b[0;32m    810\u001b[0m \u001b[1;33m\u001b[0m\u001b[0m\n\u001b[1;32m--> 811\u001b[1;33m         \u001b[0mself\u001b[0m\u001b[1;33m.\u001b[0m\u001b[0m_engine\u001b[0m \u001b[1;33m=\u001b[0m \u001b[0mself\u001b[0m\u001b[1;33m.\u001b[0m\u001b[0m_make_engine\u001b[0m\u001b[1;33m(\u001b[0m\u001b[0mself\u001b[0m\u001b[1;33m.\u001b[0m\u001b[0mengine\u001b[0m\u001b[1;33m)\u001b[0m\u001b[1;33m\u001b[0m\u001b[1;33m\u001b[0m\u001b[0m\n\u001b[0m\u001b[0;32m    812\u001b[0m \u001b[1;33m\u001b[0m\u001b[0m\n\u001b[0;32m    813\u001b[0m     \u001b[1;32mdef\u001b[0m \u001b[0mclose\u001b[0m\u001b[1;33m(\u001b[0m\u001b[0mself\u001b[0m\u001b[1;33m)\u001b[0m\u001b[1;33m:\u001b[0m\u001b[1;33m\u001b[0m\u001b[1;33m\u001b[0m\u001b[0m\n",
      "\u001b[1;32m~\\anaconda3\\envs\\geospatial\\lib\\site-packages\\pandas\\io\\parsers\\readers.py\u001b[0m in \u001b[0;36m_make_engine\u001b[1;34m(self, engine)\u001b[0m\n\u001b[0;32m   1038\u001b[0m             )\n\u001b[0;32m   1039\u001b[0m         \u001b[1;31m# error: Too many arguments for \"ParserBase\"\u001b[0m\u001b[1;33m\u001b[0m\u001b[1;33m\u001b[0m\u001b[1;33m\u001b[0m\u001b[0m\n\u001b[1;32m-> 1040\u001b[1;33m         \u001b[1;32mreturn\u001b[0m \u001b[0mmapping\u001b[0m\u001b[1;33m[\u001b[0m\u001b[0mengine\u001b[0m\u001b[1;33m]\u001b[0m\u001b[1;33m(\u001b[0m\u001b[0mself\u001b[0m\u001b[1;33m.\u001b[0m\u001b[0mf\u001b[0m\u001b[1;33m,\u001b[0m \u001b[1;33m**\u001b[0m\u001b[0mself\u001b[0m\u001b[1;33m.\u001b[0m\u001b[0moptions\u001b[0m\u001b[1;33m)\u001b[0m  \u001b[1;31m# type: ignore[call-arg]\u001b[0m\u001b[1;33m\u001b[0m\u001b[1;33m\u001b[0m\u001b[0m\n\u001b[0m\u001b[0;32m   1041\u001b[0m \u001b[1;33m\u001b[0m\u001b[0m\n\u001b[0;32m   1042\u001b[0m     \u001b[1;32mdef\u001b[0m \u001b[0m_failover_to_python\u001b[0m\u001b[1;33m(\u001b[0m\u001b[0mself\u001b[0m\u001b[1;33m)\u001b[0m\u001b[1;33m:\u001b[0m\u001b[1;33m\u001b[0m\u001b[1;33m\u001b[0m\u001b[0m\n",
      "\u001b[1;32m~\\anaconda3\\envs\\geospatial\\lib\\site-packages\\pandas\\io\\parsers\\c_parser_wrapper.py\u001b[0m in \u001b[0;36m__init__\u001b[1;34m(self, src, **kwds)\u001b[0m\n\u001b[0;32m     49\u001b[0m \u001b[1;33m\u001b[0m\u001b[0m\n\u001b[0;32m     50\u001b[0m         \u001b[1;31m# open handles\u001b[0m\u001b[1;33m\u001b[0m\u001b[1;33m\u001b[0m\u001b[1;33m\u001b[0m\u001b[0m\n\u001b[1;32m---> 51\u001b[1;33m         \u001b[0mself\u001b[0m\u001b[1;33m.\u001b[0m\u001b[0m_open_handles\u001b[0m\u001b[1;33m(\u001b[0m\u001b[0msrc\u001b[0m\u001b[1;33m,\u001b[0m \u001b[0mkwds\u001b[0m\u001b[1;33m)\u001b[0m\u001b[1;33m\u001b[0m\u001b[1;33m\u001b[0m\u001b[0m\n\u001b[0m\u001b[0;32m     52\u001b[0m         \u001b[1;32massert\u001b[0m \u001b[0mself\u001b[0m\u001b[1;33m.\u001b[0m\u001b[0mhandles\u001b[0m \u001b[1;32mis\u001b[0m \u001b[1;32mnot\u001b[0m \u001b[1;32mNone\u001b[0m\u001b[1;33m\u001b[0m\u001b[1;33m\u001b[0m\u001b[0m\n\u001b[0;32m     53\u001b[0m \u001b[1;33m\u001b[0m\u001b[0m\n",
      "\u001b[1;32m~\\anaconda3\\envs\\geospatial\\lib\\site-packages\\pandas\\io\\parsers\\base_parser.py\u001b[0m in \u001b[0;36m_open_handles\u001b[1;34m(self, src, kwds)\u001b[0m\n\u001b[0;32m    220\u001b[0m         \u001b[0mLet\u001b[0m \u001b[0mthe\u001b[0m \u001b[0mreaders\u001b[0m \u001b[0mopen\u001b[0m \u001b[0mIOHandles\u001b[0m \u001b[0mafter\u001b[0m \u001b[0mthey\u001b[0m \u001b[0mare\u001b[0m \u001b[0mdone\u001b[0m \u001b[1;32mwith\u001b[0m \u001b[0mtheir\u001b[0m \u001b[0mpotential\u001b[0m \u001b[0mraises\u001b[0m\u001b[1;33m.\u001b[0m\u001b[1;33m\u001b[0m\u001b[1;33m\u001b[0m\u001b[0m\n\u001b[0;32m    221\u001b[0m         \"\"\"\n\u001b[1;32m--> 222\u001b[1;33m         self.handles = get_handle(\n\u001b[0m\u001b[0;32m    223\u001b[0m             \u001b[0msrc\u001b[0m\u001b[1;33m,\u001b[0m\u001b[1;33m\u001b[0m\u001b[1;33m\u001b[0m\u001b[0m\n\u001b[0;32m    224\u001b[0m             \u001b[1;34m\"r\"\u001b[0m\u001b[1;33m,\u001b[0m\u001b[1;33m\u001b[0m\u001b[1;33m\u001b[0m\u001b[0m\n",
      "\u001b[1;32m~\\anaconda3\\envs\\geospatial\\lib\\site-packages\\pandas\\io\\common.py\u001b[0m in \u001b[0;36mget_handle\u001b[1;34m(path_or_buf, mode, encoding, compression, memory_map, is_text, errors, storage_options)\u001b[0m\n\u001b[0;32m    700\u001b[0m         \u001b[1;32mif\u001b[0m \u001b[0mioargs\u001b[0m\u001b[1;33m.\u001b[0m\u001b[0mencoding\u001b[0m \u001b[1;32mand\u001b[0m \u001b[1;34m\"b\"\u001b[0m \u001b[1;32mnot\u001b[0m \u001b[1;32min\u001b[0m \u001b[0mioargs\u001b[0m\u001b[1;33m.\u001b[0m\u001b[0mmode\u001b[0m\u001b[1;33m:\u001b[0m\u001b[1;33m\u001b[0m\u001b[1;33m\u001b[0m\u001b[0m\n\u001b[0;32m    701\u001b[0m             \u001b[1;31m# Encoding\u001b[0m\u001b[1;33m\u001b[0m\u001b[1;33m\u001b[0m\u001b[1;33m\u001b[0m\u001b[0m\n\u001b[1;32m--> 702\u001b[1;33m             handle = open(\n\u001b[0m\u001b[0;32m    703\u001b[0m                 \u001b[0mhandle\u001b[0m\u001b[1;33m,\u001b[0m\u001b[1;33m\u001b[0m\u001b[1;33m\u001b[0m\u001b[0m\n\u001b[0;32m    704\u001b[0m                 \u001b[0mioargs\u001b[0m\u001b[1;33m.\u001b[0m\u001b[0mmode\u001b[0m\u001b[1;33m,\u001b[0m\u001b[1;33m\u001b[0m\u001b[1;33m\u001b[0m\u001b[0m\n",
      "\u001b[1;31mFileNotFoundError\u001b[0m: [Errno 2] No such file or directory: '../data/Computer_Aided_Dispatch_Data_Tornado_Incidents_030320.csv'"
     ]
    }
   ],
   "source": [
    "tornado_911 = pd.read_csv('../data/911_Phone_Calls_Tornado_030320.csv')\n",
    "cadd_tornado = pd.read_csv('../data/Computer_Aided_Dispatch_Data_Tornado_Incidents_030320.csv', skiprows = 3)\n",
    "derecho_911 = pd.read_csv('../data/911_Phone_Calls_Derecho_050320_050420.csv')\n",
    "cadd_derecho = pd.read_csv('../data/Computer_Aided_Dispatch_Data_Derecho_Incidents_050320-050420.csv', skiprows = 3)\n",
    "tornado_calls = pd.read_csv('../data/911_Phone_Calls_Tornado_030320.csv')\n",
    "derecho_calls = pd.read_csv('../data/911_Phone Calls_Derecho_050320_050420.csv')\n",
    "tornado_incidents = pd.read_csv('../data/Data_Tornado.csv', skiprows = 3)\n",
    "derecho_incidents = pd.read_csv('../data/Data_Derecho.csv', skiprows = 3)"
   ]
  },
  {
   "cell_type": "markdown",
   "id": "572e8f70",
   "metadata": {},
   "source": [
    "# Fixing columns"
   ]
  },
  {
   "cell_type": "code",
   "execution_count": null,
   "id": "d5174896",
   "metadata": {},
   "outputs": [],
   "source": [
    "tornado_911.columns = ['time', 'calltype', 'lat', 'lng', 'cell_tower_address']\n",
    "derecho_911.columns = ['time', 'calltype', 'lat', 'lng', 'cell_tower_address']\n",
    "cadd_tornado.columns = ['time', 'location', 'lat', 'lng', 'incident_type']\n",
    "cadd_derecho.columns = ['time', 'location', 'lat', 'lng', 'incident_type']"
   ]
  },
  {
   "cell_type": "code",
   "execution_count": null,
   "id": "b46a7f32",
   "metadata": {},
   "outputs": [],
   "source": [
    "tornado_911.time = pd.to_datetime(tornado_911.time)\n",
    "derecho_911.time = pd.to_datetime(derecho_911.time)\n",
    "cadd_tornado.time = pd.to_datetime(cadd_tornado.time)\n",
    "cadd_derecho.time = pd.to_datetime(cadd_derecho.time)"
   ]
  },
  {
   "cell_type": "code",
   "execution_count": null,
   "id": "97eb8771",
   "metadata": {},
   "outputs": [],
   "source": [
    "tornado_911 = tornado_911.dropna(subset = ['lat', 'lng'])\n",
    "derecho_911 = derecho_911.dropna(subset = ['lat', 'lng'])\n",
    "cadd_tornado = cadd_tornado.dropna(subset = ['lat', 'lng'])\n",
    "cadd_derecho = cadd_derecho.dropna(subset = ['lat', 'lng'])"
   ]
  },
  {
   "cell_type": "code",
   "execution_count": null,
   "id": "45559f59",
   "metadata": {},
   "outputs": [],
   "source": [
    "tornado_911['geometry'] = tornado_911.apply(lambda x: Point((float(x.lng), float(x.lat))), axis=1)\n",
    "derecho_911['geometry'] = derecho_911.apply(lambda x: Point((float(x.lng), float(x.lat))), axis=1)\n",
    "cadd_tornado['geometry'] = cadd_tornado.apply(lambda x: Point((float(x.lng), float(x.lat))), axis=1)\n",
    "cadd_derecho['geometry'] = cadd_derecho.apply(lambda x: Point((float(x.lng), float(x.lat))), axis=1)"
   ]
  },
  {
   "cell_type": "markdown",
   "id": "32bf1793",
   "metadata": {},
   "source": [
    "### Check them here"
   ]
  },
  {
   "cell_type": "code",
   "execution_count": null,
   "id": "ba5331f8",
   "metadata": {},
   "outputs": [],
   "source": [
    "#tornado_911.head()"
   ]
  },
  {
   "cell_type": "code",
   "execution_count": null,
   "id": "3f79e364",
   "metadata": {},
   "outputs": [],
   "source": [
    "#derecho_911.head()"
   ]
  },
  {
   "cell_type": "code",
   "execution_count": null,
   "id": "8fe6c50d",
   "metadata": {},
   "outputs": [],
   "source": [
    "#cadd_tornado.head()"
   ]
  },
  {
   "cell_type": "code",
   "execution_count": null,
   "id": "475e4801",
   "metadata": {},
   "outputs": [],
   "source": [
    "#cadd_derecho.head()"
   ]
  },
  {
   "cell_type": "markdown",
   "id": "3cd6eec8",
   "metadata": {},
   "source": [
    "# Breaking down the dataframes by time"
   ]
  },
  {
   "cell_type": "markdown",
   "id": "2e303a8a",
   "metadata": {},
   "source": [
    "### For Tornado 911 Calls"
   ]
  },
  {
   "cell_type": "code",
   "execution_count": null,
   "id": "61787f6b",
   "metadata": {},
   "outputs": [],
   "source": [
    "midnight_torn_calls = tornado_911[tornado_911.time < '2020-03-03 01:00:00']\n",
    "one_am_torn_calls = tornado_911[(tornado_911.time > '2020-03-03 00:59:59') & (tornado_911.time < '2020-03-03 02:00:00')]\n",
    "two_am_torn_calls = tornado_911[(tornado_911.time > '2020-03-03 01:59:59') & (tornado_911.time < '2020-03-03 03:00:00')]\n",
    "three_am_torn_calls = tornado_911[(tornado_911.time > '2020-03-03 02:59:59') & (tornado_911.time < '2020-03-03 04:00:00')]\n",
    "four_am_torn_calls = tornado_911[(tornado_911.time > '2020-03-03 03:59:59') & (tornado_911.time < '2020-03-03 05:00:00')]"
   ]
  },
  {
   "cell_type": "markdown",
   "id": "ccdcce75",
   "metadata": {},
   "source": [
    "### For CADD Tornado Responses"
   ]
  },
  {
   "cell_type": "code",
   "execution_count": null,
   "id": "7d723c33",
   "metadata": {},
   "outputs": [],
   "source": [
    "midnight_cadd_torn_calls = cadd_tornado[cadd_tornado.time < '2020-03-03 01:00:00']\n",
    "one_am_cadd_torn_calls = cadd_tornado[(cadd_tornado.time > '2020-03-03 00:59:59') & (cadd_tornado.time < '2020-03-03 02:00:00')]\n",
    "two_am_cadd_torn_calls = cadd_tornado[(cadd_tornado.time > '2020-03-03 01:59:59') & (cadd_tornado.time < '2020-03-03 03:00:00')]\n",
    "three_am_cadd_torn_calls = cadd_tornado[(cadd_tornado.time > '2020-03-03 02:59:59') & (cadd_tornado.time < '2020-03-03 04:00:00')]\n",
    "four_am_cadd_torn_calls = cadd_tornado[(cadd_tornado.time > '2020-03-03 03:59:59') & (cadd_tornado.time < '2020-03-03 05:00:00')]"
   ]
  },
  {
   "cell_type": "markdown",
   "id": "cf87f974",
   "metadata": {},
   "source": [
    "# Adding geojson data"
   ]
  },
  {
   "cell_type": "code",
   "execution_count": null,
   "id": "aff01ba7",
   "metadata": {},
   "outputs": [],
   "source": [
    "damage_points = gpd.read_file('../data/damage_points.geojson')\n",
    "path_polygons = gpd.read_file('../data/path_polygons.geojson')\n",
    "tornado_paths = gpd.read_file('../data/tornado_paths.geojson')"
   ]
  },
  {
   "cell_type": "markdown",
   "id": "94f89e4c",
   "metadata": {},
   "source": [
    "# Fixing columns"
   ]
  },
  {
   "cell_type": "code",
   "execution_count": null,
   "id": "71d8451e",
   "metadata": {},
   "outputs": [],
   "source": [
    "damage_points.stormdate = damage_points.stormdate.apply(lambda x: datetime.datetime.fromtimestamp(x / 1e3))\n",
    "damage_points.surveydate = damage_points.surveydate.apply(lambda x: datetime.datetime.fromtimestamp(x / 1e3))\n",
    "tornado_paths.stormdate = tornado_paths.stormdate.apply(lambda x: datetime.datetime.fromtimestamp(x / 1e3))\n",
    "tornado_paths.starttime = tornado_paths.starttime.apply(lambda x: datetime.datetime.fromtimestamp(x / 1e3))\n",
    "tornado_paths.endtime = tornado_paths.endtime.apply(lambda x: datetime.datetime.fromtimestamp(x / 1e3))"
   ]
  },
  {
   "cell_type": "markdown",
   "id": "7a664f91",
   "metadata": {},
   "source": [
    "### Check them here"
   ]
  },
  {
   "cell_type": "code",
   "execution_count": null,
   "id": "e9668f7a",
   "metadata": {},
   "outputs": [],
   "source": [
    "#path_polygons.head()"
   ]
  },
  {
   "cell_type": "code",
   "execution_count": null,
   "id": "7c12a846",
   "metadata": {},
   "outputs": [],
   "source": [
    "#tornado_paths"
   ]
  },
  {
   "cell_type": "markdown",
   "id": "6716bd87",
   "metadata": {},
   "source": [
    "# Making GeoDataFrames"
   ]
  },
  {
   "cell_type": "code",
   "execution_count": null,
   "id": "1a02df7a",
   "metadata": {},
   "outputs": [],
   "source": [
    "geo_tornado_911 = gpd.GeoDataFrame(tornado_911, crs = tornado_paths.crs, geometry = tornado_911.geometry)\n",
    "geo_derecho_911 = gpd.GeoDataFrame(derecho_911, crs = tornado_paths.crs, geometry = derecho_911.geometry)\n",
    "geo_cadd_tornado = gpd.GeoDataFrame(cadd_tornado, crs = tornado_paths.crs, geometry = cadd_tornado.geometry)\n",
    "geo_cadd_derecho = gpd.GeoDataFrame(cadd_derecho, crs = tornado_paths.crs, geometry = cadd_derecho.geometry)"
   ]
  },
  {
   "cell_type": "markdown",
   "id": "f4e0914f",
   "metadata": {},
   "source": [
    "# Filtering for the Nashville Tornado"
   ]
  },
  {
   "cell_type": "code",
   "execution_count": null,
   "id": "451374f2",
   "metadata": {
    "scrolled": true
   },
   "outputs": [],
   "source": [
    "nashville_tornado = tornado_paths.loc[tornado_paths.event_id == 'Nashville']\n",
    "nashville_path = path_polygons.geometry.iloc[np.r_[4, 10:25, 26:35]]\n",
    "nashville_path = nashville_path.reset_index()\n",
    "nashville_path = nashville_path.drop(columns = ['index'])\n",
    "nashville_damage = gpd.sjoin(damage_points, nashville_path, how = 'inner', op = 'within')\n",
    "nashville_damage = nashville_damage.drop_duplicates(keep = 'first', subset = ['objectid'])"
   ]
  },
  {
   "cell_type": "markdown",
   "id": "cd55036e",
   "metadata": {},
   "source": [
    "### Check them here"
   ]
  },
  {
   "cell_type": "code",
   "execution_count": null,
   "id": "80aa778f",
   "metadata": {},
   "outputs": [],
   "source": [
    "#nashville_tornado"
   ]
  },
  {
   "cell_type": "code",
   "execution_count": null,
   "id": "ca0258e6",
   "metadata": {},
   "outputs": [],
   "source": [
    "#nashville_path"
   ]
  },
  {
   "cell_type": "code",
   "execution_count": null,
   "id": "18bc120f",
   "metadata": {},
   "outputs": [],
   "source": [
    "#nashville_damage.head()"
   ]
  },
  {
   "cell_type": "markdown",
   "id": "590ea47a",
   "metadata": {},
   "source": [
    "# Mapping the Nashville Tornado"
   ]
  },
  {
   "cell_type": "markdown",
   "id": "30959465",
   "metadata": {},
   "source": [
    "### Calls"
   ]
  },
  {
   "cell_type": "code",
   "execution_count": null,
   "id": "db725472",
   "metadata": {},
   "outputs": [],
   "source": [
    "style = {'fillColor': 'red', 'color': 'red'}\n",
    "style2 = {'fillColor': 'lightgreen', 'color': 'lightgreen'}\n",
    "startloc = [36.1627, -86.7816]\n",
    "\n",
    "map_calls = folium.Map(location = startloc, zoom_start = 10)\n",
    "\n",
    "folium.GeoJson(nashville_tornado.geometry, style_function = lambda x:style).add_to(map_calls)\n",
    "folium.GeoJson(nashville_path.geometry, style_function = lambda x:style2).add_to(map_calls)\n",
    "\n",
    "for row_index, row_values in midnight_torn_calls.iterrows():\n",
    "    loc = [row_values['lat'], row_values['lng']]\n",
    "    pop = [row_values['time']]\n",
    "    icon = folium.Icon(color = 'red', icon = 'phone', prefix = 'fa')\n",
    "    marker = folium.Marker(location = loc, popup = pop, icon = icon)\n",
    "    marker.add_to(map_calls)\n",
    "    \n",
    "for row_index, row_values in one_am_torn_calls.iterrows():\n",
    "    loc = [row_values['lat'], row_values['lng']]\n",
    "    pop = [row_values['time']]\n",
    "    icon = folium.Icon(color = 'orange', icon = 'phone', prefix = 'fa')\n",
    "    marker = folium.Marker(location = loc, popup = pop, icon = icon)\n",
    "    marker.add_to(map_calls)\n",
    "    \n",
    "for row_index, row_values in two_am_torn_calls.iterrows():\n",
    "    loc = [row_values['lat'], row_values['lng']]\n",
    "    pop = [row_values['time']]\n",
    "    icon = folium.Icon(color = 'green', icon = 'phone', prefix = 'fa')\n",
    "    marker = folium.Marker(location = loc, popup = pop, icon = icon)\n",
    "    marker.add_to(map_calls)\n",
    "    \n",
    "for row_index, row_values in three_am_torn_calls.iterrows():\n",
    "    loc = [row_values['lat'], row_values['lng']]\n",
    "    pop = [row_values['time']]\n",
    "    icon = folium.Icon(color = 'darkblue', icon = 'phone', prefix = 'fa')\n",
    "    marker = folium.Marker(location = loc, popup = pop, icon = icon)\n",
    "    marker.add_to(map_calls)\n",
    "    \n",
    "for row_index, row_values in four_am_torn_calls.iterrows():\n",
    "    loc = [row_values['lat'], row_values['lng']]\n",
    "    pop = [row_values['time']]\n",
    "    icon = folium.Icon(color = 'purple', icon = 'phone', prefix = 'fa')\n",
    "    marker = folium.Marker(location = loc, popup = pop, icon = icon)\n",
    "    marker.add_to(map_calls)\n",
    "    \n",
    "map_calls.save('../maps/map_calls.html')\n",
    "    \n",
    "map_calls"
   ]
  },
  {
   "cell_type": "markdown",
   "id": "e6fec5ce",
   "metadata": {},
   "source": [
    "### CADD Response"
   ]
  },
  {
   "cell_type": "code",
   "execution_count": null,
   "id": "efee5972",
   "metadata": {},
   "outputs": [],
   "source": [
    "style = {'fillColor': 'red', 'color': 'red'}\n",
    "style2 = {'fillColor': 'lightgreen', 'color': 'lightgreen'}\n",
    "startloc = [36.1627, -86.7816]\n",
    "\n",
    "map_cadd_res = folium.Map(location = startloc, zoom_start = 10)\n",
    "\n",
    "folium.GeoJson(nashville_tornado.geometry, style_function = lambda x:style).add_to(map_cadd_res)\n",
    "folium.GeoJson(nashville_path.geometry, style_function = lambda x:style2).add_to(map_cadd_res)\n",
    "\n",
    "for row_index, row_values in midnight_cadd_torn_calls.iterrows():\n",
    "    loc = [row_values['lat'], row_values['lng']]\n",
    "    pop = [row_values['time']]\n",
    "    icon = folium.Icon(color = 'red', icon = 'ambulance', prefix = 'fa')\n",
    "    marker = folium.Marker(location = loc, popup = pop, icon = icon)\n",
    "    marker.add_to(map_cadd_res)\n",
    "    \n",
    "for row_index, row_values in one_am_cadd_torn_calls.iterrows():\n",
    "    loc = [row_values['lat'], row_values['lng']]\n",
    "    pop = [row_values['time']]\n",
    "    icon = folium.Icon(color = 'orange', icon = 'ambulance', prefix = 'fa')\n",
    "    marker = folium.Marker(location = loc, popup = pop, icon = icon)\n",
    "    marker.add_to(map_cadd_res)\n",
    "    \n",
    "for row_index, row_values in two_am_cadd_torn_calls.iterrows():\n",
    "    loc = [row_values['lat'], row_values['lng']]\n",
    "    pop = [row_values['time']]\n",
    "    icon = folium.Icon(color = 'green', icon = 'ambulance', prefix = 'fa')\n",
    "    marker = folium.Marker(location = loc, popup = pop, icon = icon)\n",
    "    marker.add_to(map_cadd_res)\n",
    "    \n",
    "for row_index, row_values in three_am_cadd_torn_calls.iterrows():\n",
    "    loc = [row_values['lat'], row_values['lng']]\n",
    "    pop = [row_values['time']]\n",
    "    icon = folium.Icon(color = 'darkblue', icon = 'ambulance', prefix = 'fa')\n",
    "    marker = folium.Marker(location = loc, popup = pop, icon = icon)\n",
    "    marker.add_to(map_cadd_res)\n",
    "    \n",
    "for row_index, row_values in four_am_cadd_torn_calls.iterrows():\n",
    "    loc = [row_values['lat'], row_values['lng']]\n",
    "    pop = [row_values['time']]\n",
    "    icon = folium.Icon(color = 'purple', icon = 'ambulance', prefix = 'fa')\n",
    "    marker = folium.Marker(location = loc, popup = pop, icon = icon)\n",
    "    marker.add_to(map_cadd_res)\n",
    "    \n",
    "map_cadd_res.save('../maps/map_cadd_res.html')\n",
    "    \n",
    "map_cadd_res"
   ]
  }
 ],
 "metadata": {
  "kernelspec": {
   "display_name": "Python [conda env:geospatial]",
   "language": "python",
   "name": "conda-env-geospatial-py"
  },
  "language_info": {
   "codemirror_mode": {
    "name": "ipython",
    "version": 3
   },
   "file_extension": ".py",
   "mimetype": "text/x-python",
   "name": "python",
   "nbconvert_exporter": "python",
   "pygments_lexer": "ipython3",
   "version": "3.8.5"
  }
 },
 "nbformat": 4,
 "nbformat_minor": 5
}
