{
 "cells": [
  {
   "cell_type": "code",
   "execution_count": 1,
   "id": "920dfaec",
   "metadata": {},
   "outputs": [],
   "source": [
    "from shapely.geometry import Point\n",
    "import pandas as pd\n",
    "import datetime\n",
    "import geopandas as gpd\n",
    "import matplotlib.pyplot as plt\n",
    "import folium\n",
    "from folium.plugins import MarkerCluster\n",
    "from folium.plugins import FastMarkerCluster"
   ]
  },
  {
   "cell_type": "markdown",
   "id": "34418bca",
   "metadata": {},
   "source": [
    "# 1. Develop a timeline of each storm based on the call locations and volume. This can include the following:\n",
    "- Beginning and end of the event, based on call times\n",
    "- Times of stronger storm impacts, based on call volumes"
   ]
  },
  {
   "cell_type": "markdown",
   "id": "48a5edb9",
   "metadata": {},
   "source": [
    "First look at Nashville tornado data"
   ]
  },
  {
   "cell_type": "code",
   "execution_count": 2,
   "id": "657946fc",
   "metadata": {},
   "outputs": [],
   "source": [
    "tornado_calls = pd.read_csv('../data/911_Phone_Calls_Tornado_030320.csv')\n",
    "tornado_incidents = pd.read_csv('../data/Data_Tornado.csv', skiprows = 3)\n",
    "damage_points = gpd.read_file('../data/damage_points.geojson')\n",
    "path_polygons = gpd.read_file('../data/path_polygons.geojson')\n",
    "tornado_paths = gpd.read_file('../data/tornado_paths.geojson')"
   ]
  },
  {
   "cell_type": "code",
   "execution_count": null,
   "id": "be30551d",
   "metadata": {},
   "outputs": [],
   "source": []
  }
 ],
 "metadata": {
  "kernelspec": {
   "display_name": "Python [conda env:geospatial]",
   "language": "python",
   "name": "conda-env-geospatial-py"
  },
  "language_info": {
   "codemirror_mode": {
    "name": "ipython",
    "version": 3
   },
   "file_extension": ".py",
   "mimetype": "text/x-python",
   "name": "python",
   "nbconvert_exporter": "python",
   "pygments_lexer": "ipython3",
   "version": "3.8.5"
  }
 },
 "nbformat": 4,
 "nbformat_minor": 5
}
