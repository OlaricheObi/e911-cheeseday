{
 "cells": [
  {
   "cell_type": "markdown",
   "id": "b5e9d9b6",
   "metadata": {},
   "source": [
    "# Add in packages you need, make sure you're in Geospatial!"
   ]
  },
  {
   "cell_type": "code",
   "execution_count": 1,
   "id": "de8fef19",
   "metadata": {},
   "outputs": [],
   "source": [
    "from shapely.geometry import Point \n",
    "from shapely.geometry import LineString\n",
    "import pandas as pd\n",
    "import geopandas as gpd\n",
    "import sys\n",
    "import matplotlib.pyplot as plt\n",
    "import datetime as datetime\n",
    "import numpy as np\n",
    "import folium\n",
    "from folium.plugins import MarkerCluster\n",
    "from folium.plugins import FastMarkerCluster\n",
    "from folium import plugins\n",
    "from folium.plugins import HeatMap\n",
    "from folium.plugins import HeatMapWithTime"
   ]
  },
  {
   "cell_type": "markdown",
   "id": "0500b1da",
   "metadata": {},
   "source": [
    "# Adding csv data"
   ]
  },
  {
   "cell_type": "code",
   "execution_count": 2,
   "id": "26eac0d6",
   "metadata": {},
   "outputs": [],
   "source": [
    "tornado_911 = pd.read_csv('../data/911_Phone_Calls_Tornado_030320.csv')\n",
    "cadd_tornado = pd.read_csv('../data/Computer_Aided_Dispatch_Data_Tornado_Incidents_030320.csv', skiprows = 3)\n",
    "derecho_911 = pd.read_csv('../data/911_Phone_Calls_Derecho_050320_050420.csv')\n",
    "cadd_derecho = pd.read_csv('../data/Computer_Aided_Dispatch_Data_Derecho_Incidents_050320-050420.csv', skiprows = 3)"
   ]
  },
  {
   "cell_type": "markdown",
   "id": "4032cc9b",
   "metadata": {},
   "source": [
    "# Fixing datasets"
   ]
  },
  {
   "cell_type": "markdown",
   "id": "b571f0d3",
   "metadata": {},
   "source": [
    "### Columns"
   ]
  },
  {
   "cell_type": "code",
   "execution_count": 3,
   "id": "35896b9c",
   "metadata": {},
   "outputs": [],
   "source": [
    "tornado_911.columns = ['time', 'calltype', 'lat', 'lng', 'cell_tower_address']\n",
    "derecho_911.columns = ['time', 'calltype', 'lat', 'lng', 'cell_tower_address']\n",
    "cadd_tornado.columns = ['time', 'location', 'lat', 'lng', 'incident_type']\n",
    "cadd_derecho.columns = ['time', 'location', 'lat', 'lng', 'incident_type']"
   ]
  },
  {
   "cell_type": "code",
   "execution_count": 4,
   "id": "5feae1de",
   "metadata": {},
   "outputs": [],
   "source": [
    "tornado_911['geometry'] = tornado_911.apply(lambda x: Point((float(x.lng), float(x.lat))), axis=1)\n",
    "derecho_911['geometry'] = derecho_911.apply(lambda x: Point((float(x.lng), float(x.lat))), axis=1)\n",
    "cadd_tornado['geometry'] = cadd_tornado.apply(lambda x: Point((float(x.lng), float(x.lat))), axis=1)\n",
    "cadd_derecho['geometry'] = cadd_derecho.apply(lambda x: Point((float(x.lng), float(x.lat))), axis=1)"
   ]
  },
  {
   "cell_type": "markdown",
   "id": "a3e49607",
   "metadata": {},
   "source": [
    "### Datetime conversion"
   ]
  },
  {
   "cell_type": "code",
   "execution_count": 5,
   "id": "9f76b657",
   "metadata": {},
   "outputs": [],
   "source": [
    "tornado_911.time = pd.to_datetime(tornado_911.time)\n",
    "derecho_911.time = pd.to_datetime(derecho_911.time)\n",
    "cadd_tornado.time = pd.to_datetime(cadd_tornado.time)\n",
    "cadd_derecho.time = pd.to_datetime(cadd_derecho.time)"
   ]
  },
  {
   "cell_type": "markdown",
   "id": "1c2fb1b4",
   "metadata": {},
   "source": [
    "### Dropping nulls for coord mapping later"
   ]
  },
  {
   "cell_type": "code",
   "execution_count": 6,
   "id": "0651588b",
   "metadata": {},
   "outputs": [],
   "source": [
    "tornado_911 = tornado_911.dropna(subset = ['lat', 'lng'])\n",
    "derecho_911 = derecho_911.dropna(subset = ['lat', 'lng'])\n",
    "cadd_tornado = cadd_tornado.dropna(subset = ['lat', 'lng'])\n",
    "cadd_derecho = cadd_derecho.dropna(subset = ['lat', 'lng'])"
   ]
  },
  {
   "cell_type": "markdown",
   "id": "5b0573c6",
   "metadata": {},
   "source": [
    "# Making GeoDataFrames"
   ]
  },
  {
   "cell_type": "code",
   "execution_count": 7,
   "id": "e80e4cbf",
   "metadata": {},
   "outputs": [],
   "source": [
    "geo_tornado_911 = gpd.GeoDataFrame(tornado_911, crs = 4326, geometry = tornado_911.geometry)\n",
    "geo_derecho_911 = gpd.GeoDataFrame(derecho_911, crs = 4326, geometry = derecho_911.geometry)\n",
    "geo_cadd_tornado = gpd.GeoDataFrame(cadd_tornado, crs = 4326, geometry = cadd_tornado.geometry)\n",
    "geo_cadd_derecho = gpd.GeoDataFrame(cadd_derecho, crs = 4326, geometry = cadd_derecho.geometry)"
   ]
  },
  {
   "cell_type": "markdown",
   "id": "3df9472f",
   "metadata": {},
   "source": [
    "# Adding geojson data"
   ]
  },
  {
   "cell_type": "code",
   "execution_count": 8,
   "id": "462ee82e",
   "metadata": {},
   "outputs": [],
   "source": [
    "damage_points = gpd.read_file('../data/damage_points.geojson')\n",
    "path_polygons = gpd.read_file('../data/path_polygons.geojson')\n",
    "tornado_paths = gpd.read_file('../data/tornado_paths.geojson')"
   ]
  },
  {
   "cell_type": "markdown",
   "id": "53f1f9ca",
   "metadata": {},
   "source": [
    "### Fixing columns"
   ]
  },
  {
   "cell_type": "code",
   "execution_count": 9,
   "id": "79fb97eb",
   "metadata": {},
   "outputs": [],
   "source": [
    "damage_points.stormdate = damage_points.stormdate.apply(lambda x: datetime.datetime.fromtimestamp(x / 1e3))\n",
    "damage_points.surveydate = damage_points.surveydate.apply(lambda x: datetime.datetime.fromtimestamp(x / 1e3))\n",
    "tornado_paths.stormdate = tornado_paths.stormdate.apply(lambda x: datetime.datetime.fromtimestamp(x / 1e3))\n",
    "tornado_paths.starttime = tornado_paths.starttime.apply(lambda x: datetime.datetime.fromtimestamp(x / 1e3))\n",
    "tornado_paths.endtime = tornado_paths.endtime.apply(lambda x: datetime.datetime.fromtimestamp(x / 1e3))"
   ]
  },
  {
   "cell_type": "markdown",
   "id": "bda5419a",
   "metadata": {},
   "source": [
    "### Categorizing damage"
   ]
  },
  {
   "cell_type": "code",
   "execution_count": 10,
   "id": "8493b1ba",
   "metadata": {},
   "outputs": [],
   "source": [
    "for index, damage_txt in enumerate(damage_points['damage_txt']):\n",
    "    if damage_txt in ['Small Barns or Farm Outbuildings (SBO)', 'Metal Building System (MBS)', \n",
    "                     'Low-Rise Building [1-4 Stories] (LRB)', 'Electrical Transmission Lines (ETL)',\n",
    "                     'Small Professional Building [Doctors Office, Branch Banks] (SPB)',\n",
    "                     'Institutional Building [Hospital, Government or University Building] (IB)',\n",
    "                     'Large, Isolated Retail Building [K-Mart, Wal-Mart] (LIRB)',\n",
    "                     'Junior or Senior High School (JHSH)', 'Strip Mall (SM)',\n",
    "                     'Warehouse Building [Tilt-up Walls or Heavy-Timber Construction] (WHB)',\n",
    "                     'Elementary School [Single Story; Interior or Exterior Hallways] (ES)',\n",
    "                     'Free-Standing Towers (FST)', 'Service Station Canopy (SSC)',\n",
    "                     'Mid-Rise Building [5-20 Stories] (MRB)']:\n",
    "        damage_points.loc[index, 'category'] = 'Commercial'\n",
    "    elif damage_txt in ['One- or Two-Family Residences (FR12)', 'Masonry Apartment or Motel Building (MAM)',\n",
    "                       'Manufactured Home - Single Wide (MHSW)', 'Apartments, Condos, Townhouses [3 stories or less] (ACT)',\n",
    "                       'Manufactured Home - Double Wide (MHDW)', 'Motel (M)']:\n",
    "        damage_points.loc[index, 'category'] = 'Residential'\n",
    "    elif damage_txt in ['Trees: Hardwood (TH)', 'Trees: Softwood (TS)']:\n",
    "        damage_points.loc[index, 'category'] = 'Trees'\n",
    "    elif damage_txt in ['Other (O)']:\n",
    "        damage_points.loc[index, 'category'] = 'Other'"
   ]
  },
  {
   "cell_type": "markdown",
   "id": "a826e36a",
   "metadata": {},
   "source": [
    "# Filtering for the Nashville Tornado"
   ]
  },
  {
   "cell_type": "code",
   "execution_count": 11,
   "id": "ac8fa098",
   "metadata": {},
   "outputs": [],
   "source": [
    "nashville_tornado = tornado_paths.loc[tornado_paths.event_id == 'Nashville']\n",
    "nashville_path = path_polygons.geometry.iloc[np.r_[4, 10:25, 26:35]]\n",
    "nashville_path = nashville_path.reset_index()\n",
    "nashville_path = nashville_path.drop(columns = ['index'])\n",
    "nashville_damage = gpd.sjoin(damage_points, nashville_path, how = 'inner', op = 'within')\n",
    "nashville_damage = nashville_damage.drop_duplicates(keep = 'first', subset = ['objectid'])"
   ]
  },
  {
   "cell_type": "code",
   "execution_count": null,
   "id": "827f02d2",
   "metadata": {},
   "outputs": [],
   "source": []
  }
 ],
 "metadata": {
  "kernelspec": {
   "display_name": "Python [conda env:geospatial]",
   "language": "python",
   "name": "conda-env-geospatial-py"
  },
  "language_info": {
   "codemirror_mode": {
    "name": "ipython",
    "version": 3
   },
   "file_extension": ".py",
   "mimetype": "text/x-python",
   "name": "python",
   "nbconvert_exporter": "python",
   "pygments_lexer": "ipython3",
   "version": "3.8.5"
  }
 },
 "nbformat": 4,
 "nbformat_minor": 5
}
